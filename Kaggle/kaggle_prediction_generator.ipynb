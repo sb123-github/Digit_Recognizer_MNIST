{
 "cells": [
  {
   "cell_type": "markdown",
   "id": "da06465e",
   "metadata": {},
   "source": [
    "# Using the model to submit to kaggle\n",
    "\n",
    "Link to the competition: https://www.kaggle.com/competitions/digit-recognizer"
   ]
  },
  {
   "cell_type": "code",
   "execution_count": 16,
   "id": "84e631f3",
   "metadata": {},
   "outputs": [
    {
     "name": "stdout",
     "output_type": "stream",
     "text": [
      "Libraries loaded successfully\n"
     ]
    }
   ],
   "source": [
    "import pandas as pd \n",
    "import numpy as np\n",
    "np.random.seed(1212)\n",
    "import tensorflow as tf\n",
    "from tensorflow import keras\n",
    "from tensorflow.keras import layers\n",
    "\n",
    "from matplotlib import pyplot as plt\n",
    "%matplotlib inline \n",
    "\n",
    "\n",
    "from numpy import mean\n",
    "from numpy import std\n",
    "from sklearn.model_selection import KFold\n",
    "from tensorflow.keras.datasets import mnist\n",
    "from tensorflow.keras.utils import to_categorical\n",
    "from tensorflow.keras.models import Sequential\n",
    "from tensorflow.keras.layers import Conv2D\n",
    "from tensorflow.keras.layers import MaxPooling2D\n",
    "from tensorflow.keras.layers import Dense\n",
    "from tensorflow.keras.layers import Flatten\n",
    "from tensorflow.keras.optimizers import SGD\n",
    "from tensorflow.keras.optimizers import Adam\n",
    "print(\"Libraries loaded successfully\")"
   ]
  },
  {
   "cell_type": "code",
   "execution_count": 17,
   "id": "bfe4c8c1",
   "metadata": {},
   "outputs": [
    {
     "name": "stdout",
     "output_type": "stream",
     "text": [
      "label       1\n",
      "pixel0      0\n",
      "pixel1      0\n",
      "pixel2      0\n",
      "pixel3      0\n",
      "           ..\n",
      "pixel779    0\n",
      "pixel780    0\n",
      "pixel781    0\n",
      "pixel782    0\n",
      "pixel783    0\n",
      "Name: 0, Length: 785, dtype: int64\n"
     ]
    }
   ],
   "source": [
    "def check_data():\n",
    "    df_train = pd.read_csv(\"./train.csv\")\n",
    "    df_test = pd.read_csv(\"./test.csv\") \n",
    "    print(df_train.iloc[0])    \n",
    "    \n",
    "check_data()"
   ]
  },
  {
   "cell_type": "code",
   "execution_count": 18,
   "id": "5b598032",
   "metadata": {
    "scrolled": true
   },
   "outputs": [
    {
     "name": "stdout",
     "output_type": "stream",
     "text": [
      "Train data (X) shape: (42000, 28, 28, 1)\n",
      "Test data (X) shape: (28000, 28, 28, 1)\n",
      "Train data (Y) shape: (42000, 10)\n"
     ]
    },
    {
     "data": {
      "image/png": "[encoded data removed]",
      "text/plain": [
       "<Figure size 432x288 with 9 Axes>"
      ]
     },
     "metadata": {
      "needs_background": "light"
     },
     "output_type": "display_data"
    }
   ],
   "source": [
    "# load train and test dataset\n",
    "def load_dataset():\n",
    "    # load dataset\n",
    "    df_train = pd.read_csv(\"./train.csv\")\n",
    "    df_test = pd.read_csv(\"./test.csv\")     \n",
    "    \n",
    "    trainX = (df_train.iloc[ :,1:]).to_numpy() #1st column is label\n",
    "    trainY = (df_train.iloc[ :,0]).to_numpy()    \n",
    "    \n",
    "    testX = df_test.to_numpy()    \n",
    "    \n",
    "    trainX = np.reshape(trainX, (-1,28,28))\n",
    "    testX = np.reshape(testX, (-1,28,28))\n",
    "   \n",
    "    # reshape dataset to have a single channel\n",
    "    trainX = trainX.reshape((trainX.shape[0], 28, 28, 1))\n",
    "    testX = testX.reshape((testX.shape[0], 28, 28, 1))\n",
    "    # one hot encode target values\n",
    "    trainY = to_categorical(trainY)    \n",
    "    return trainX, trainY, testX\n",
    "\n",
    "#scale test and train images\n",
    "def prep_pixels(train, test):\n",
    "    # convert from integers to floats\n",
    "    train_norm = train.astype('float32')\n",
    "    test_norm = test.astype('float32')\n",
    "    # normalize to range 0-1\n",
    "    train_norm = train_norm / 255.0\n",
    "    test_norm = test_norm / 255.0\n",
    "    # return normalized images\n",
    "    return train_norm, test_norm\n",
    "\n",
    "\n",
    "def check_data():\n",
    "    # load dataset\n",
    "    trainX, trainY, testX= load_dataset()\n",
    "    # prepare pixel data\n",
    "    trainX, testX = prep_pixels(trainX, testX)\n",
    "    print(\"Train data (X) shape:\",trainX.shape)\n",
    "    print(\"Test data (X) shape:\",testX.shape)\n",
    "    print(\"Train data (Y) shape:\",trainY.shape)\n",
    "    for i in range(9):\n",
    "        # define subplot\n",
    "        plt.subplot(330 + 1 + i)\n",
    "        # plot raw pixel data\n",
    "        plt.imshow(trainX[i], cmap=('gray'))\n",
    "    \n",
    "    plt.show()\n",
    "    \n",
    "check_data()"
   ]
  },
  {
   "cell_type": "markdown",
   "id": "fc02a170",
   "metadata": {},
   "source": [
    "## Model definition"
   ]
  },
  {
   "cell_type": "code",
   "execution_count": 6,
   "id": "54800481",
   "metadata": {},
   "outputs": [
    {
     "name": "stdout",
     "output_type": "stream",
     "text": [
      "Model: \"sequential\"\n",
      "_________________________________________________________________\n",
      " Layer (type)                Output Shape              Param #   \n",
      "=================================================================\n",
      " conv2d (Conv2D)             (None, 26, 26, 32)        320       \n",
      "                                                                 \n",
      " max_pooling2d (MaxPooling2D  (None, 13, 13, 32)       0         \n",
      " )                                                               \n",
      "                                                                 \n",
      " conv2d_1 (Conv2D)           (None, 11, 11, 64)        18496     \n",
      "                                                                 \n",
      " conv2d_2 (Conv2D)           (None, 9, 9, 64)          36928     \n",
      "                                                                 \n",
      " max_pooling2d_1 (MaxPooling  (None, 4, 4, 64)         0         \n",
      " 2D)                                                             \n",
      "                                                                 \n",
      " flatten (Flatten)           (None, 1024)              0         \n",
      "                                                                 \n",
      " dense (Dense)               (None, 100)               102500    \n",
      "                                                                 \n",
      " dense_1 (Dense)             (None, 10)                1010      \n",
      "                                                                 \n",
      "=================================================================\n",
      "Total params: 159,254\n",
      "Trainable params: 159,254\n",
      "Non-trainable params: 0\n",
      "_________________________________________________________________\n",
      "Model defined successfully\n"
     ]
    }
   ],
   "source": [
    "# define cnn model\n",
    "def define_model():\n",
    "    model = Sequential()\n",
    "    model.add(Conv2D(32, (3, 3), activation='relu', kernel_initializer='he_uniform', input_shape=(28, 28, 1)))\n",
    "    model.add(MaxPooling2D((2, 2)))\n",
    "    model.add(Conv2D(64, (3, 3), activation='relu', kernel_initializer='he_uniform')) \n",
    "    #RELU activation present.It is not 2 consecutive linear layers\n",
    "    model.add(Conv2D(64, (3, 3), activation='relu', kernel_initializer='he_uniform'))\n",
    "    model.add(MaxPooling2D((2, 2)))\n",
    "    model.add(Flatten())\n",
    "    model.add(Dense(100, activation='relu', kernel_initializer='he_uniform'))\n",
    "    model.add(Dense(10, activation='softmax'))\n",
    "    # compile model\n",
    "    opt = SGD(learning_rate=0.01, momentum=0.9) #stochastic gradient descent optimizer\n",
    "    \n",
    "    #opt =Adam(learning_rate=0.001, beta_1=0.9,beta_2=0.999,epsilon=1e-07, amsgrad=False )\n",
    "    \n",
    "    model.compile(optimizer=opt, loss='categorical_crossentropy', metrics=['accuracy'])\n",
    "    return model\n",
    "test_model=define_model()\n",
    "test_model.summary()\n",
    "print(\"Model defined successfully\")"
   ]
  },
  {
   "cell_type": "code",
   "execution_count": 8,
   "id": "24c97189",
   "metadata": {},
   "outputs": [
    {
     "name": "stdout",
     "output_type": "stream",
     "text": [
      "Epoch 1/10\n",
      "1313/1313 - 7s - loss: 0.1517 - accuracy: 0.9514 - 7s/epoch - 5ms/step\n",
      "Epoch 2/10\n",
      "1313/1313 - 4s - loss: 0.0499 - accuracy: 0.9838 - 4s/epoch - 3ms/step\n",
      "Epoch 3/10\n",
      "1313/1313 - 4s - loss: 0.0318 - accuracy: 0.9900 - 4s/epoch - 3ms/step\n",
      "Epoch 4/10\n",
      "1313/1313 - 4s - loss: 0.0235 - accuracy: 0.9925 - 4s/epoch - 3ms/step\n",
      "Epoch 5/10\n",
      "1313/1313 - 4s - loss: 0.0165 - accuracy: 0.9948 - 4s/epoch - 3ms/step\n",
      "Epoch 6/10\n",
      "1313/1313 - 4s - loss: 0.0134 - accuracy: 0.9952 - 4s/epoch - 3ms/step\n",
      "Epoch 7/10\n",
      "1313/1313 - 4s - loss: 0.0097 - accuracy: 0.9970 - 4s/epoch - 3ms/step\n",
      "Epoch 8/10\n",
      "1313/1313 - 4s - loss: 0.0077 - accuracy: 0.9976 - 4s/epoch - 3ms/step\n",
      "Epoch 9/10\n",
      "1313/1313 - 4s - loss: 0.0048 - accuracy: 0.9986 - 4s/epoch - 3ms/step\n",
      "Epoch 10/10\n",
      "1313/1313 - 4s - loss: 0.0038 - accuracy: 0.9989 - 4s/epoch - 3ms/step\n"
     ]
    },
    {
     "data": {
      "text/plain": [
       "<keras.callbacks.History at 0x1e9657236d0>"
      ]
     },
     "execution_count": 8,
     "metadata": {},
     "output_type": "execute_result"
    }
   ],
   "source": [
    "#Train the final model and Check Test set accuracy\n",
    "# load dataset\n",
    "trainX, trainY, testX = load_dataset()\n",
    "# prepare pixel data\n",
    "trainX, testX = prep_pixels(trainX, testX)\n",
    "\n",
    "model = define_model()\n",
    "history = model.fit(trainX, trainY, epochs=10, batch_size=32, verbose=2)\n",
    "\n",
    "#epocs=4 for adam optimizer as it reaches minima faster\n"
   ]
  },
  {
   "cell_type": "code",
   "execution_count": 11,
   "id": "7ced37a7",
   "metadata": {},
   "outputs": [
    {
     "name": "stdout",
     "output_type": "stream",
     "text": [
      "Train accuracy: 99.89285469055176 %\n"
     ]
    }
   ],
   "source": [
    "# history.history # adictionary\n",
    "print('Train accuracy:', history.history['accuracy'][-1]*100,'%') #last element of accuracy list\n"
   ]
  },
  {
   "cell_type": "markdown",
   "id": "5e8ed8dc",
   "metadata": {},
   "source": [
    "### Optimizer Performance Comparision\n",
    "SGD (Stochastic Gradient Descent). Epochs=10. Learning rate=0.01, momentum=0.9\n",
    "Test accuracy: 99.16999936103821 %\n",
    "\n",
    "Adam Optimizer.Epochs=4. Learning Rate=0.001\n",
    "Test accuracy: 99.02%"
   ]
  },
  {
   "cell_type": "code",
   "execution_count": 12,
   "id": "efeb7758",
   "metadata": {},
   "outputs": [
    {
     "name": "stdout",
     "output_type": "stream",
     "text": [
      "140/140 [==============================] - 1s 3ms/step\n",
      "y_pred.shape (28000,)\n",
      "y_pred.shape (28000, 1)\n",
      "Id.shape (28000, 1)\n",
      "x.shape (28000, 2)\n",
      "   ImageId  Label\n",
      "0        1      2\n",
      "1        2      0\n",
      "2        3      9\n",
      "3        4      9\n",
      "4        5      3\n"
     ]
    }
   ],
   "source": [
    "\n",
    "def predict_save(model):\n",
    "    out= model.predict(testX, verbose=1, batch_size=200) #out is a numpy array of (28000, 10)\n",
    "    y_pred = np.argmax(out,axis=1)\n",
    "    print(\"y_pred.shape\",y_pred.shape)  #gives the index of the maximum prob along the axis=1, along each row\n",
    "    y_pred= y_pred[ : ,np.newaxis]\n",
    "    print(\"y_pred.shape\",y_pred.shape)\n",
    "\n",
    "    Id= np.arange(1,y_pred.shape[0]+1)\n",
    "    Id=Id[ : ,np.newaxis] # we cant join without this extra axis\n",
    "    print(\"Id.shape\",Id.shape)\n",
    "\n",
    "    x = np.concatenate((Id, y_pred), axis=1)\n",
    "    #x =[ a y_final] # does not work bcoz we are not dealing with lists, we are dealing with numpy arrays\n",
    "    print(\"x.shape\",x.shape)\n",
    "    column_values = ['ImageId', 'Label']\n",
    "    submission = pd.DataFrame(data = x, columns = column_values)\n",
    "    print(submission.head())\n",
    "    submission.to_csv('my_submission.csv',index=False)\n",
    "    \n",
    "    \n",
    "predict_save(model)"
   ]
  },
  {
   "cell_type": "code",
   "execution_count": null,
   "id": "44e54646",
   "metadata": {},
   "outputs": [],
   "source": []
  }
 ],
 "metadata": {
  "kernelspec": {
   "display_name": "Python [conda env:img_class]",
   "language": "python",
   "name": "conda-env-img_class-py"
  },
  "language_info": {
   "codemirror_mode": {
    "name": "ipython",
    "version": 3
   },
   "file_extension": ".py",
   "mimetype": "text/x-python",
   "name": "python",
   "nbconvert_exporter": "python",
   "pygments_lexer": "ipython3",
   "version": "3.9.12"
  },
  "vscode": {
   "interpreter": {
    "hash": "45e6d7d95f7cdaeedea142aae2f2407d247ae77d51bc89ae248d797fc09705ec"
   }
  }
 },
 "nbformat": 4,
 "nbformat_minor": 5
}
